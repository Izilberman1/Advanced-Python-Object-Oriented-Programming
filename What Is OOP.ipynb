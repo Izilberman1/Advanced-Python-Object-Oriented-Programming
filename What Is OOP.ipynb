{
 "cells": [
  {
   "cell_type": "code",
   "execution_count": 13,
   "id": "406a5aab",
   "metadata": {},
   "outputs": [
    {
     "name": "stdout",
     "output_type": "stream",
     "text": [
      "<class 'NoneType'>\n",
      "<class 'bool'>\n",
      "<class 'int'>\n",
      "<class 'float'>\n",
      "<class 'str'>\n",
      "<class 'list'>\n",
      "<class 'tuple'>\n",
      "<class 'dict'>\n"
     ]
    }
   ],
   "source": [
    "#OOP -> These are the datatypes we use, however in Python \n",
    "#everything is an object (classes)\n",
    "print(type(None))\n",
    "print(type(True))\n",
    "print(type(5))\n",
    "print(type(5.5))\n",
    "print(type('hi'))\n",
    "print(type([]))\n",
    "print(type(()))\n",
    "print(type({}))"
   ]
  },
  {
   "cell_type": "code",
   "execution_count": 14,
   "id": "0c0afea0",
   "metadata": {},
   "outputs": [],
   "source": [
    "#objects have methods with attributes\n",
    "#that you can access with the .(method)\n",
    "#we can also create our own custom objects (classes)\n",
    "#using OOP."
   ]
  },
  {
   "cell_type": "code",
   "execution_count": 15,
   "id": "e77a5de6",
   "metadata": {},
   "outputs": [
    {
     "name": "stdout",
     "output_type": "stream",
     "text": [
      "<class 'NoneType'>\n",
      "<class 'bool'>\n",
      "<class 'int'>\n",
      "<class 'float'>\n",
      "<class 'str'>\n",
      "<class 'list'>\n",
      "<class 'tuple'>\n",
      "<class 'dict'>\n",
      "<class 'type'>\n"
     ]
    }
   ],
   "source": [
    "class BigObject:#using camelcase \n",
    "    pass\n",
    "    \n",
    "    \n",
    "print(type(None))\n",
    "print(type(True))\n",
    "print(type(5))\n",
    "print(type(5.5))\n",
    "print(type('hi'))\n",
    "print(type([]))\n",
    "print(type(()))\n",
    "print(type({}))\n",
    "print(type(BigObject))"
   ]
  },
  {
   "cell_type": "code",
   "execution_count": 17,
   "id": "d05a03e0",
   "metadata": {},
   "outputs": [
    {
     "name": "stdout",
     "output_type": "stream",
     "text": [
      "<class 'NoneType'>\n",
      "<class 'bool'>\n",
      "<class 'int'>\n",
      "<class 'float'>\n",
      "<class 'str'>\n",
      "<class 'list'>\n",
      "<class 'tuple'>\n",
      "<class 'dict'>\n",
      "<class '__main__.BigObject'>\n"
     ]
    }
   ],
   "source": [
    "class BigObject: #Class (blue print)\n",
    "    pass\n",
    "    \n",
    "obj1 = BigObject() #instanciate (new object)\n",
    "print(type(None))\n",
    "print(type(True))\n",
    "print(type(5))\n",
    "print(type(5.5))\n",
    "print(type('hi'))\n",
    "print(type([]))\n",
    "print(type(()))\n",
    "print(type({}))\n",
    "print(type(obj1))\n",
    "#class can be instantiated to create different instances (objects)\n",
    "#\"I just instantiated a class\" means I just created a new object."
   ]
  },
  {
   "cell_type": "code",
   "execution_count": 25,
   "id": "909ee82f",
   "metadata": {},
   "outputs": [
    {
     "name": "stdout",
     "output_type": "stream",
     "text": [
      "<class '__main__.BigObject'> <class '__main__.BigObject'> <class '__main__.BigObject'>\n"
     ]
    }
   ],
   "source": [
    "class BigObject: #Class (blue print)\n",
    "    #code\n",
    "    pass\n",
    "    \n",
    "obj1 = BigObject() #instanciate (new object)\n",
    "obj2 = BigObject() #instanciate (new object)\n",
    "obj3 = BigObject() #instanciate (new object)\n",
    "\n",
    "#class can be instantiated to create different instances (objects)\n",
    "#\"I just instantiated a class\" means I just created a new object.\n",
    "\n",
    "print(type(obj1), type(obj2), type(obj3))"
   ]
  },
  {
   "cell_type": "code",
   "execution_count": 3,
   "id": "5a2fbc03",
   "metadata": {},
   "outputs": [
    {
     "name": "stdout",
     "output_type": "stream",
     "text": [
      "<__main__.PlayerCharacter object at 0x0000028707A39A90>\n"
     ]
    }
   ],
   "source": [
    "#OOP\n",
    "class PlayerCharacter: #you want a class to be singular not plural\n",
    "    def __init__(self, name):\n",
    "        self.name = name\n",
    "        \n",
    "    def run(self):\n",
    "        print('run')\n",
    "\n",
    "player1 = PlayerCharacter('Itamar')\n",
    "\n",
    "print(player1)"
   ]
  },
  {
   "cell_type": "code",
   "execution_count": 4,
   "id": "cc0d20cb",
   "metadata": {},
   "outputs": [
    {
     "name": "stdout",
     "output_type": "stream",
     "text": [
      "Itamar\n"
     ]
    }
   ],
   "source": [
    "#OOP\n",
    "class PlayerCharacter: #you want a class to be singular not plural\n",
    "    def __init__(self, name):\n",
    "        self.name = name #self refers tp player1\n",
    "        \n",
    "    def run(self):\n",
    "        print('run')\n",
    "\n",
    "player1 = PlayerCharacter('Itamar')\n",
    "\n",
    "print(player1.name)"
   ]
  },
  {
   "cell_type": "code",
   "execution_count": 5,
   "id": "d381198b",
   "metadata": {},
   "outputs": [
    {
     "name": "stdout",
     "output_type": "stream",
     "text": [
      "Itamar\n",
      "Izalco\n"
     ]
    }
   ],
   "source": [
    "#OOP\n",
    "class PlayerCharacter: #you want a class to be singular not plural\n",
    "    def __init__(self, name):\n",
    "        self.name = name #self refers tp player1 and player2\n",
    "#therefore this code is dynamic becuse it allows you to create different\n",
    "#players with differenct attributes but still use the same code.\n",
    "#this fits into the DRY (Do Not Repeat Yourself) rule.\n",
    "        \n",
    "    def run(self):\n",
    "        print('run')\n",
    "\n",
    "player1 = PlayerCharacter('Itamar')\n",
    "player2 = PlayerCharacter('Izalco')\n",
    "\n",
    "\n",
    "print(player1.name)\n",
    "print(player2.name)"
   ]
  },
  {
   "cell_type": "code",
   "execution_count": 6,
   "id": "6e230d74",
   "metadata": {},
   "outputs": [
    {
     "name": "stdout",
     "output_type": "stream",
     "text": [
      "Itamar\n",
      "Izalco\n",
      "28\n",
      "8\n"
     ]
    }
   ],
   "source": [
    "class PlayerCharacter:\n",
    "    def __init__(self, name, age):\n",
    "        self.name = name\n",
    "        self.age = age\n",
    "    \n",
    "    def run(self):\n",
    "        print('run')\n",
    "        \n",
    "player1 = PlayerCharacter('Itamar', 28)\n",
    "player2 = PlayerCharacter('Izalco', 8)\n",
    "\n",
    "\n",
    "print(player1.name)\n",
    "print(player2.name)\n",
    "print(player1.age)\n",
    "print(player2.age)"
   ]
  },
  {
   "cell_type": "code",
   "execution_count": 7,
   "id": "2813b606",
   "metadata": {},
   "outputs": [
    {
     "name": "stdout",
     "output_type": "stream",
     "text": [
      "<bound method PlayerCharacter.run of <__main__.PlayerCharacter object at 0x0000028707A399D0>>\n"
     ]
    }
   ],
   "source": [
    "class PlayerCharacter:\n",
    "    def __init__(self, name, age):\n",
    "        self.name = name\n",
    "        self.age = age\n",
    "    \n",
    "    def run(self):\n",
    "        print('run')\n",
    "        \n",
    "player1 = PlayerCharacter('Itamar', 28)\n",
    "player2 = PlayerCharacter('Izalco', 8)\n",
    "\n",
    "\n",
    "print(player1.run)"
   ]
  },
  {
   "cell_type": "code",
   "execution_count": 8,
   "id": "acf36689",
   "metadata": {},
   "outputs": [
    {
     "name": "stdout",
     "output_type": "stream",
     "text": [
      "run\n",
      "None\n"
     ]
    }
   ],
   "source": [
    "class PlayerCharacter:\n",
    "    def __init__(self, name, age):\n",
    "        self.name = name\n",
    "        self.age = age\n",
    "    \n",
    "    def run(self):\n",
    "        print('run')\n",
    "        \n",
    "player1 = PlayerCharacter('Itamar', 28)\n",
    "player2 = PlayerCharacter('Izalco', 8)\n",
    "\n",
    "\n",
    "print(player1.run()) #we getNone because the run function \n",
    "#does not return anything."
   ]
  },
  {
   "cell_type": "code",
   "execution_count": 9,
   "id": "6cae7913",
   "metadata": {},
   "outputs": [
    {
     "name": "stdout",
     "output_type": "stream",
     "text": [
      "run\n",
      "done\n"
     ]
    }
   ],
   "source": [
    "class PlayerCharacter:\n",
    "    def __init__(self, name, age):\n",
    "        self.name = name\n",
    "        self.age = age\n",
    "    \n",
    "    def run(self):\n",
    "        print('run')\n",
    "        return 'done'\n",
    "    \n",
    "player1 = PlayerCharacter('Itamar', 28)\n",
    "player2 = PlayerCharacter('Izalco', 8)\n",
    "\n",
    "\n",
    "print(player1.run())"
   ]
  },
  {
   "cell_type": "code",
   "execution_count": 10,
   "id": "9d57a289",
   "metadata": {},
   "outputs": [
    {
     "name": "stdout",
     "output_type": "stream",
     "text": [
      "<__main__.PlayerCharacter object at 0x0000028707EBF610>\n",
      "<__main__.PlayerCharacter object at 0x0000028707EBF7F0>\n"
     ]
    }
   ],
   "source": [
    "class PlayerCharacter:\n",
    "    def __init__(self, name, age):\n",
    "        self.name = name\n",
    "        self.age = age\n",
    "    \n",
    "    def run(self):\n",
    "        print('run')\n",
    "        return 'done'\n",
    "    \n",
    "player1 = PlayerCharacter('Itamar', 28)\n",
    "player2 = PlayerCharacter('Izalco', 8)\n",
    "\n",
    "print(player1) \n",
    "print(player2)\n",
    "\n",
    "#PLAYER1 AND PLAYER2 are stored at different memory locations\n",
    "#that are created from the same __init__ function."
   ]
  },
  {
   "cell_type": "code",
   "execution_count": 11,
   "id": "9107b2a4",
   "metadata": {},
   "outputs": [
    {
     "name": "stdout",
     "output_type": "stream",
     "text": [
      "<__main__.PlayerCharacter object at 0x000002870797C100>\n",
      "50\n"
     ]
    }
   ],
   "source": [
    "class PlayerCharacter:\n",
    "    def __init__(self, name, age):\n",
    "        self.name = name\n",
    "        self.age = age\n",
    "    \n",
    "    def run(self):\n",
    "        print('run')\n",
    "        return 'done'\n",
    "    \n",
    "player1 = PlayerCharacter('Itamar', 28)\n",
    "player2 = PlayerCharacter('Izalco', 8)\n",
    "player2.attack = 50\n",
    "\n",
    "print(player1) \n",
    "print(player2.attack)"
   ]
  },
  {
   "cell_type": "code",
   "execution_count": 12,
   "id": "6b6d330c",
   "metadata": {},
   "outputs": [
    {
     "name": "stdout",
     "output_type": "stream",
     "text": [
      "Help on class list in module builtins:\n",
      "\n",
      "class list(object)\n",
      " |  list(iterable=(), /)\n",
      " |  \n",
      " |  Built-in mutable sequence.\n",
      " |  \n",
      " |  If no argument is given, the constructor creates a new empty list.\n",
      " |  The argument must be an iterable if specified.\n",
      " |  \n",
      " |  Methods defined here:\n",
      " |  \n",
      " |  __add__(self, value, /)\n",
      " |      Return self+value.\n",
      " |  \n",
      " |  __contains__(self, key, /)\n",
      " |      Return key in self.\n",
      " |  \n",
      " |  __delitem__(self, key, /)\n",
      " |      Delete self[key].\n",
      " |  \n",
      " |  __eq__(self, value, /)\n",
      " |      Return self==value.\n",
      " |  \n",
      " |  __ge__(self, value, /)\n",
      " |      Return self>=value.\n",
      " |  \n",
      " |  __getattribute__(self, name, /)\n",
      " |      Return getattr(self, name).\n",
      " |  \n",
      " |  __getitem__(...)\n",
      " |      x.__getitem__(y) <==> x[y]\n",
      " |  \n",
      " |  __gt__(self, value, /)\n",
      " |      Return self>value.\n",
      " |  \n",
      " |  __iadd__(self, value, /)\n",
      " |      Implement self+=value.\n",
      " |  \n",
      " |  __imul__(self, value, /)\n",
      " |      Implement self*=value.\n",
      " |  \n",
      " |  __init__(self, /, *args, **kwargs)\n",
      " |      Initialize self.  See help(type(self)) for accurate signature.\n",
      " |  \n",
      " |  __iter__(self, /)\n",
      " |      Implement iter(self).\n",
      " |  \n",
      " |  __le__(self, value, /)\n",
      " |      Return self<=value.\n",
      " |  \n",
      " |  __len__(self, /)\n",
      " |      Return len(self).\n",
      " |  \n",
      " |  __lt__(self, value, /)\n",
      " |      Return self<value.\n",
      " |  \n",
      " |  __mul__(self, value, /)\n",
      " |      Return self*value.\n",
      " |  \n",
      " |  __ne__(self, value, /)\n",
      " |      Return self!=value.\n",
      " |  \n",
      " |  __repr__(self, /)\n",
      " |      Return repr(self).\n",
      " |  \n",
      " |  __reversed__(self, /)\n",
      " |      Return a reverse iterator over the list.\n",
      " |  \n",
      " |  __rmul__(self, value, /)\n",
      " |      Return value*self.\n",
      " |  \n",
      " |  __setitem__(self, key, value, /)\n",
      " |      Set self[key] to value.\n",
      " |  \n",
      " |  __sizeof__(self, /)\n",
      " |      Return the size of the list in memory, in bytes.\n",
      " |  \n",
      " |  append(self, object, /)\n",
      " |      Append object to the end of the list.\n",
      " |  \n",
      " |  clear(self, /)\n",
      " |      Remove all items from list.\n",
      " |  \n",
      " |  copy(self, /)\n",
      " |      Return a shallow copy of the list.\n",
      " |  \n",
      " |  count(self, value, /)\n",
      " |      Return number of occurrences of value.\n",
      " |  \n",
      " |  extend(self, iterable, /)\n",
      " |      Extend list by appending elements from the iterable.\n",
      " |  \n",
      " |  index(self, value, start=0, stop=9223372036854775807, /)\n",
      " |      Return first index of value.\n",
      " |      \n",
      " |      Raises ValueError if the value is not present.\n",
      " |  \n",
      " |  insert(self, index, object, /)\n",
      " |      Insert object before index.\n",
      " |  \n",
      " |  pop(self, index=-1, /)\n",
      " |      Remove and return item at index (default last).\n",
      " |      \n",
      " |      Raises IndexError if list is empty or index is out of range.\n",
      " |  \n",
      " |  remove(self, value, /)\n",
      " |      Remove first occurrence of value.\n",
      " |      \n",
      " |      Raises ValueError if the value is not present.\n",
      " |  \n",
      " |  reverse(self, /)\n",
      " |      Reverse *IN PLACE*.\n",
      " |  \n",
      " |  sort(self, /, *, key=None, reverse=False)\n",
      " |      Sort the list in ascending order and return None.\n",
      " |      \n",
      " |      The sort is in-place (i.e. the list itself is modified) and stable (i.e. the\n",
      " |      order of two equal elements is maintained).\n",
      " |      \n",
      " |      If a key function is given, apply it once to each list item and sort them,\n",
      " |      ascending or descending, according to their function values.\n",
      " |      \n",
      " |      The reverse flag can be set to sort in descending order.\n",
      " |  \n",
      " |  ----------------------------------------------------------------------\n",
      " |  Class methods defined here:\n",
      " |  \n",
      " |  __class_getitem__(...) from builtins.type\n",
      " |      See PEP 585\n",
      " |  \n",
      " |  ----------------------------------------------------------------------\n",
      " |  Static methods defined here:\n",
      " |  \n",
      " |  __new__(*args, **kwargs) from builtins.type\n",
      " |      Create and return a new object.  See help(type) for accurate signature.\n",
      " |  \n",
      " |  ----------------------------------------------------------------------\n",
      " |  Data and other attributes defined here:\n",
      " |  \n",
      " |  __hash__ = None\n",
      "\n"
     ]
    }
   ],
   "source": [
    "class PlayerCharacter:\n",
    "    def __init__(self, name, age):\n",
    "        self.name = name\n",
    "        self.age = age\n",
    "    \n",
    "    def run(self):\n",
    "        print('run')\n",
    "        return 'done'\n",
    "    \n",
    "player1 = PlayerCharacter('Itamar', 28)\n",
    "player2 = PlayerCharacter('Izalco', 8)\n",
    "player2.attack = 50\n",
    "\n",
    "help(list)# shows the blueprint that some of the Python\n",
    "#data types have."
   ]
  },
  {
   "cell_type": "code",
   "execution_count": 13,
   "id": "6fbe39e9",
   "metadata": {},
   "outputs": [
    {
     "name": "stdout",
     "output_type": "stream",
     "text": [
      "<__main__.PlayerCharacter object at 0x0000028707ECDFD0>\n"
     ]
    }
   ],
   "source": [
    "class PlayerCharacter:\n",
    "    \n",
    "    membership = True #called a Class Object Attribute\n",
    "#COAs are static and not dynamic\n",
    "    def __init__(self, name, age):\n",
    "        self.name = name\n",
    "        self.age = age\n",
    "    \n",
    "    def run(self):\n",
    "        print('run')\n",
    "        return 'done'\n",
    "    \n",
    "player1 = PlayerCharacter('Itamar', 28)\n",
    "player2 = PlayerCharacter('Izalco', 8)\n",
    "player2.attack = 50\n",
    "\n",
    "print(player2)"
   ]
  },
  {
   "cell_type": "code",
   "execution_count": 14,
   "id": "549bc8f9",
   "metadata": {},
   "outputs": [
    {
     "name": "stdout",
     "output_type": "stream",
     "text": [
      "True\n"
     ]
    }
   ],
   "source": [
    "class PlayerCharacter:\n",
    "    \n",
    "    membership = True #called a Class Object Attribute\n",
    "#COAs are static and not dynamic\n",
    "    def __init__(self, name, age):\n",
    "        self.name = name\n",
    "        self.age = age\n",
    "    \n",
    "    def run(self):\n",
    "        print('run')\n",
    "        return 'done'\n",
    "    \n",
    "player1 = PlayerCharacter('Itamar', 28)\n",
    "player2 = PlayerCharacter('Izalco', 8)\n",
    "player2.attack = 50\n",
    "\n",
    "print(player2.membership)"
   ]
  },
  {
   "cell_type": "code",
   "execution_count": 15,
   "id": "7fcd5449",
   "metadata": {},
   "outputs": [
    {
     "name": "stdout",
     "output_type": "stream",
     "text": [
      "True\n",
      "True\n"
     ]
    }
   ],
   "source": [
    "class PlayerCharacter:\n",
    "    \n",
    "    membership = True #called a Class Object Attribute\n",
    "#COAs are static and not dynamic\n",
    "#this is something we use when there is no chnage.\n",
    "    def __init__(self, name, age):\n",
    "        self.name = name\n",
    "        self.age = age\n",
    "    \n",
    "    def run(self):\n",
    "        print('run')\n",
    "        return 'done'\n",
    "    \n",
    "player1 = PlayerCharacter('Itamar', 28)\n",
    "player2 = PlayerCharacter('Izalco', 8)\n",
    "player2.attack = 50\n",
    "\n",
    "print(player1.membership)\n",
    "print(player2.membership)"
   ]
  },
  {
   "cell_type": "code",
   "execution_count": 16,
   "id": "02727bf2",
   "metadata": {},
   "outputs": [
    {
     "name": "stdout",
     "output_type": "stream",
     "text": [
      "my name is Itamar\n",
      "None\n",
      "True\n"
     ]
    }
   ],
   "source": [
    "class PlayerCharacter:\n",
    "    #Class Object Attribute\n",
    "    membership = True\n",
    "    def __init__(self, name, age):\n",
    "        if (PlayerCharacter.membership):\n",
    "            self.name = name #attributes\n",
    "            self.age = age\n",
    "    \n",
    "    def shout(self):\n",
    "        print(f'my name is {self.name}')\n",
    "    \n",
    "    def run(self, hello):\n",
    "        print(f'my name is {self.name}')\n",
    "        \n",
    "player1 = PlayerCharacter('Itamar', 28)\n",
    "player2 = PlayerCharacter('Izalco', 8)\n",
    "player2.attack = 50\n",
    "\n",
    "print(player1.run('hello'))\n",
    "print(player2.membership)"
   ]
  },
  {
   "cell_type": "code",
   "execution_count": 17,
   "id": "393a0db4",
   "metadata": {},
   "outputs": [
    {
     "ename": "AttributeError",
     "evalue": "'PlayerCharacter' object has no attribute 'name'",
     "output_type": "error",
     "traceback": [
      "\u001b[1;31m---------------------------------------------------------------------------\u001b[0m",
      "\u001b[1;31mAttributeError\u001b[0m                            Traceback (most recent call last)",
      "\u001b[1;32m~\\AppData\\Local\\Temp\\ipykernel_34924\\618554320.py\u001b[0m in \u001b[0;36m<module>\u001b[1;34m\u001b[0m\n\u001b[0;32m     15\u001b[0m \u001b[0mplayer1\u001b[0m \u001b[1;33m=\u001b[0m \u001b[0mPlayerCharacter\u001b[0m\u001b[1;33m(\u001b[0m\u001b[1;34m'Itamar'\u001b[0m\u001b[1;33m,\u001b[0m \u001b[1;36m10\u001b[0m\u001b[1;33m)\u001b[0m\u001b[1;33m\u001b[0m\u001b[1;33m\u001b[0m\u001b[0m\n\u001b[0;32m     16\u001b[0m \u001b[1;33m\u001b[0m\u001b[0m\n\u001b[1;32m---> 17\u001b[1;33m \u001b[0mprint\u001b[0m\u001b[1;33m(\u001b[0m\u001b[0mplayer1\u001b[0m\u001b[1;33m.\u001b[0m\u001b[0mshout\u001b[0m\u001b[1;33m(\u001b[0m\u001b[1;33m)\u001b[0m\u001b[1;33m)\u001b[0m\u001b[1;33m\u001b[0m\u001b[1;33m\u001b[0m\u001b[0m\n\u001b[0m",
      "\u001b[1;32m~\\AppData\\Local\\Temp\\ipykernel_34924\\618554320.py\u001b[0m in \u001b[0;36mshout\u001b[1;34m(self)\u001b[0m\n\u001b[0;32m      8\u001b[0m \u001b[1;33m\u001b[0m\u001b[0m\n\u001b[0;32m      9\u001b[0m     \u001b[1;32mdef\u001b[0m \u001b[0mshout\u001b[0m\u001b[1;33m(\u001b[0m\u001b[0mself\u001b[0m\u001b[1;33m)\u001b[0m\u001b[1;33m:\u001b[0m\u001b[1;33m\u001b[0m\u001b[1;33m\u001b[0m\u001b[0m\n\u001b[1;32m---> 10\u001b[1;33m         \u001b[0mprint\u001b[0m\u001b[1;33m(\u001b[0m\u001b[1;34mf'my name is {self.name}'\u001b[0m\u001b[1;33m)\u001b[0m\u001b[1;33m\u001b[0m\u001b[1;33m\u001b[0m\u001b[0m\n\u001b[0m\u001b[0;32m     11\u001b[0m \u001b[1;33m\u001b[0m\u001b[0m\n\u001b[0;32m     12\u001b[0m     \u001b[1;32mdef\u001b[0m \u001b[0mrun\u001b[0m\u001b[1;33m(\u001b[0m\u001b[0mself\u001b[0m\u001b[1;33m,\u001b[0m \u001b[0mhello\u001b[0m\u001b[1;33m)\u001b[0m\u001b[1;33m:\u001b[0m\u001b[1;33m\u001b[0m\u001b[1;33m\u001b[0m\u001b[0m\n",
      "\u001b[1;31mAttributeError\u001b[0m: 'PlayerCharacter' object has no attribute 'name'"
     ]
    }
   ],
   "source": [
    "class PlayerCharacter:\n",
    "    #Class Object Attribute\n",
    "    membership = True\n",
    "    def __init__(self, name='anonymous', age=0):\n",
    "        if (age > 18):\n",
    "            self.name = name #attributes\n",
    "            self.age = age\n",
    "    \n",
    "    def shout(self):\n",
    "        print(f'my name is {self.name}')\n",
    "    \n",
    "    def run(self, hello):\n",
    "        print(f'my name is {self.name}')\n",
    "        \n",
    "player1 = PlayerCharacter('Itamar', 10)\n",
    "\n",
    "print(player1.shout())\n",
    "#program will error out because player1 is less than 18"
   ]
  },
  {
   "cell_type": "code",
   "execution_count": null,
   "id": "aa8f237e",
   "metadata": {},
   "outputs": [],
   "source": []
  }
 ],
 "metadata": {
  "kernelspec": {
   "display_name": "Python 3 (ipykernel)",
   "language": "python",
   "name": "python3"
  },
  "language_info": {
   "codemirror_mode": {
    "name": "ipython",
    "version": 3
   },
   "file_extension": ".py",
   "mimetype": "text/x-python",
   "name": "python",
   "nbconvert_exporter": "python",
   "pygments_lexer": "ipython3",
   "version": "3.9.13"
  }
 },
 "nbformat": 4,
 "nbformat_minor": 5
}
