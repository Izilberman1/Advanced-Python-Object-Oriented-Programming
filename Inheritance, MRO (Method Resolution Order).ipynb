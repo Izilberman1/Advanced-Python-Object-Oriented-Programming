{
 "cells": [
  {
   "cell_type": "code",
   "execution_count": 5,
   "id": "ffcabe04",
   "metadata": {},
   "outputs": [
    {
     "name": "stdout",
     "output_type": "stream",
     "text": [
      "Metallica is rock and rolling heavy\n",
      "Megadeth is rock and rolling heavy\n",
      "Slayer is rock and rolling heavy\n",
      "Anthrax is rock and rolling heavy\n"
     ]
    }
   ],
   "source": [
    "class Big4():\n",
    "    bands = []\n",
    "    def __init__(self, bands):\n",
    "        self.bands = bands\n",
    "\n",
    "    def rock(self):\n",
    "        for band in self.bands:\n",
    "            print(band.rock())\n",
    "\n",
    "class group():\n",
    "    is_thrash = True\n",
    "\n",
    "    def __init__(self, name, age):\n",
    "        self.name = name\n",
    "        self.age = age\n",
    "\n",
    "    def rock(self):\n",
    "        return f'{self.name} is rock and rolling heavy'\n",
    "\n",
    "class Metallica(group):\n",
    "    def play(self, sounds):\n",
    "        return f'{sounds}'\n",
    "\n",
    "class Megadeth(group):\n",
    "    def play(self, sounds):\n",
    "        return f'{sounds}'\n",
    "\n",
    "\n",
    "#1 Add 2 other bands\n",
    "\n",
    "class Slayer(group):\n",
    "    def sing(self,sounds):\n",
    "        return f'{sounds}'\n",
    "\n",
    "    \n",
    "class Anthrax(group):\n",
    "    def sing(self,sounds):\n",
    "        return f'{sounds}'\n",
    "\n",
    "#2 Create a list of all of the pets (create 3 cat instances from the above)\n",
    "my_bands = []\n",
    "band1 = Metallica('Metallica', 43)\n",
    "band2 = Megadeth('Megadeth', 41)\n",
    "band3 = Slayer('Slayer', 43)\n",
    "band4 = Anthrax('Anthrax', 43)\n",
    "\n",
    "my_bands.append(band1)\n",
    "my_bands.append(band2)\n",
    "my_bands.append(band3)\n",
    "my_bands.append(band4)\n",
    "\n",
    "#OR my_bands = [Metallica('Metallica', 43), Megadeth('Megadeth', 41), Slayer('Slayer', 43), Anthrax('Anthrax', 43)]\n",
    "\n",
    "#3 Instantiate the Pet class with all your cats use variable my_bands\n",
    "\n",
    "my_bands = Big4(my_bands)\n",
    "\n",
    "#4 Output all of the cats walking using the my_pets instance\n",
    "\n",
    "my_bands.rock()\n",
    "\n"
   ]
  },
  {
   "cell_type": "code",
   "execution_count": 12,
   "id": "4170b4ee",
   "metadata": {},
   "outputs": [
    {
     "name": "stdout",
     "output_type": "stream",
     "text": [
      "1000\n",
      "5\n",
      "True\n"
     ]
    }
   ],
   "source": [
    "class SuperList(list):\n",
    "    def __len__(self):\n",
    "        return 1000\n",
    "        \n",
    "super_list1 = SuperList();\n",
    "\n",
    "print(len(super_list1))\n",
    "super_list1.append(5)\n",
    "print(super_list1[0])\n",
    "print(issubclass(SuperList, list))"
   ]
  },
  {
   "cell_type": "code",
   "execution_count": 15,
   "id": "330792c2",
   "metadata": {},
   "outputs": [
    {
     "ename": "SyntaxError",
     "evalue": "invalid syntax (2749163414.py, line 3)",
     "output_type": "error",
     "traceback": [
      "\u001b[1;36m  File \u001b[1;32m\"C:\\Users\\16476\\AppData\\Local\\Temp\\ipykernel_24220\\2749163414.py\"\u001b[1;36m, line \u001b[1;32m3\u001b[0m\n\u001b[1;33m    Class A:\u001b[0m\n\u001b[1;37m          ^\u001b[0m\n\u001b[1;31mSyntaxError\u001b[0m\u001b[1;31m:\u001b[0m invalid syntax\n"
     ]
    }
   ],
   "source": [
    "#MRO - Method Resoltuion Order\n",
    "\n",
    "Class A:\n",
    "    num = 10\n",
    "\n",
    "Class B(A):\n",
    "    pass\n",
    "    \n",
    "\n",
    "Class C(A):\n",
    "    num = 1\n",
    "    \n",
    "\n",
    "Class D(B, C):\n",
    "    pass    \n",
    "\n",
    "print(D.__mro__)\n",
    "\n",
    "\n",
    "#        A\n",
    "#       / \\\n",
    "#      /   \\\n",
    "#     B    C\n",
    "#     \\   /\n",
    "#      \\ / \n",
    "#       D\n",
    "\n",
    "# MRO is a rule that Python follows to determine when you run a method\n",
    "# which one to run. In this instance, it goes D -> B -> C -> A"
   ]
  },
  {
   "cell_type": "code",
   "execution_count": null,
   "id": "9d47a886",
   "metadata": {},
   "outputs": [],
   "source": []
  }
 ],
 "metadata": {
  "kernelspec": {
   "display_name": "Python 3 (ipykernel)",
   "language": "python",
   "name": "python3"
  },
  "language_info": {
   "codemirror_mode": {
    "name": "ipython",
    "version": 3
   },
   "file_extension": ".py",
   "mimetype": "text/x-python",
   "name": "python",
   "nbconvert_exporter": "python",
   "pygments_lexer": "ipython3",
   "version": "3.9.13"
  }
 },
 "nbformat": 4,
 "nbformat_minor": 5
}
