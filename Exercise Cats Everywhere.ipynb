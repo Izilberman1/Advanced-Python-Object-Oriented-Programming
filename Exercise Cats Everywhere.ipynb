{
 "cells": [
  {
   "cell_type": "code",
   "execution_count": 5,
   "id": "8a9d6291",
   "metadata": {},
   "outputs": [
    {
     "name": "stdout",
     "output_type": "stream",
     "text": [
      "The oldest cat is 7 years old.\n"
     ]
    }
   ],
   "source": [
    "#Given the below class:\n",
    "class Cat:\n",
    "    species = 'mammal'\n",
    "    def __init__(self, name, age):\n",
    "        self.name = name\n",
    "        self.age = age\n",
    "\n",
    "#1. Instantiate the Cat object with 3 cats\n",
    "cat1 = Cat('cat1', 5)\n",
    "cat2 = Cat('cat2', 7)\n",
    "cat3 = Cat('cat3', 3)\n",
    "\n",
    "#2. Create a function that finds the oldest cat\n",
    "def oldest_cat(*args):\n",
    "    return max(args)\n",
    "\n",
    "#3. Print out: \"The oldest cat is x years old.\". \n",
    "#x will be the oldest cat age by using the function in #2\n",
    "print(f'The oldest cat is {oldest_cat(cat1.age, cat2.age, cat3.age)} years old.')"
   ]
  },
  {
   "cell_type": "code",
   "execution_count": null,
   "id": "ebeeccd0",
   "metadata": {},
   "outputs": [],
   "source": []
  }
 ],
 "metadata": {
  "kernelspec": {
   "display_name": "Python 3 (ipykernel)",
   "language": "python",
   "name": "python3"
  },
  "language_info": {
   "codemirror_mode": {
    "name": "ipython",
    "version": 3
   },
   "file_extension": ".py",
   "mimetype": "text/x-python",
   "name": "python",
   "nbconvert_exporter": "python",
   "pygments_lexer": "ipython3",
   "version": "3.9.13"
  }
 },
 "nbformat": 4,
 "nbformat_minor": 5
}
